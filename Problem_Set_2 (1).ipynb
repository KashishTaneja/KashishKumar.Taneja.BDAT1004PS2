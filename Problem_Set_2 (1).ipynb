{
 "cells": [
  {
   "cell_type": "code",
   "execution_count": 91,
   "id": "d7723226",
   "metadata": {},
   "outputs": [],
   "source": [
    "#Question1\n",
    "a = 0\n",
    "def b():\n",
    "    global a\n",
    "    a = c(a)\n",
    "def c(a):\n",
    "    return a + 2"
   ]
  },
  {
   "cell_type": "code",
   "execution_count": 92,
   "id": "f16e4e65",
   "metadata": {},
   "outputs": [
    {
     "data": {
      "text/plain": [
       "6"
      ]
     },
     "execution_count": 92,
     "metadata": {},
     "output_type": "execute_result"
    }
   ],
   "source": [
    "b()\n",
    "b()\n",
    "b()\n",
    "a"
   ]
  },
  {
   "cell_type": "markdown",
   "id": "55b3d94b",
   "metadata": {},
   "source": [
    "We have chosen global variable a so that scope of a remains in the whole code.\n",
    "In each iteration 2 is added to variable a hence the result comes out to be 6."
   ]
  },
  {
   "cell_type": "code",
   "execution_count": 32,
   "id": "566e32e4",
   "metadata": {},
   "outputs": [],
   "source": [
    "#Question2\n",
    "def file_length(file_name):\n",
    "    \n",
    "    try:\n",
    "        file = open(file_name)\n",
    "        contents = file.read()\n",
    "        file.close()\n",
    "        print(len(contents))\n",
    "        \n",
    "    except Exception as e:\n",
    "        print(\"File {} not found\".format(file_name))"
   ]
  },
  {
   "cell_type": "code",
   "execution_count": 34,
   "id": "628c673e",
   "metadata": {},
   "outputs": [
    {
     "name": "stdout",
     "output_type": "stream",
     "text": [
      "2299\n"
     ]
    }
   ],
   "source": [
    "file_length('PPT.txt')"
   ]
  },
  {
   "cell_type": "code",
   "execution_count": 35,
   "id": "727ee7f9",
   "metadata": {},
   "outputs": [
    {
     "name": "stdout",
     "output_type": "stream",
     "text": [
      "File abc.txt not found\n"
     ]
    }
   ],
   "source": [
    "file_length('abc.txt')"
   ]
  },
  {
   "cell_type": "code",
   "execution_count": 48,
   "id": "d4d2c12a",
   "metadata": {},
   "outputs": [],
   "source": [
    "#Question3\n",
    "class Marsupial():\n",
    "    content = []\n",
    "    def __init__(self):\n",
    "        self.content = [] \n",
    "    def put_in_pouch(self,var):\n",
    "        self.content.append(var)\n",
    "    def pouch_contents(self):\n",
    "        print(self.content)"
   ]
  },
  {
   "cell_type": "code",
   "execution_count": 49,
   "id": "605eaf92",
   "metadata": {},
   "outputs": [
    {
     "name": "stdout",
     "output_type": "stream",
     "text": [
      "['doll', 'firetruck', 'kitten']\n"
     ]
    }
   ],
   "source": [
    "m =Marsupial()\n",
    "m.put_in_pouch(\"doll\")\n",
    "m.put_in_pouch(\"firetruck\")\n",
    "m.put_in_pouch(\"kitten\")\n",
    "\n",
    "m.pouch_contents()"
   ]
  },
  {
   "cell_type": "code",
   "execution_count": 72,
   "id": "c06d6cd5",
   "metadata": {},
   "outputs": [],
   "source": [
    "class Kangaroo(Marsupial):\n",
    "    x = 0\n",
    "    y = 0\n",
    "    def __init__(self,x,y):\n",
    "        self.x = x\n",
    "        self.y = y\n",
    "    def __str__(self):\n",
    "        return \"I am a Kangaroo located at coordinates (\" + str(self.x) + \",\" + str(self.y)  + \")\" \n",
    "    def jump(self,dx,dy):\n",
    "        self.x = self.x+dx\n",
    "        self.y = self.y+dy"
   ]
  },
  {
   "cell_type": "code",
   "execution_count": 73,
   "id": "18260535",
   "metadata": {},
   "outputs": [
    {
     "name": "stdout",
     "output_type": "stream",
     "text": [
      "I am a Kangaroo located at coordinates (0,0)\n",
      "['doll', 'firetruck', 'kitten', 'doll', 'firetruck', 'kitten', 'doll', 'firetruck', 'kitten']\n"
     ]
    }
   ],
   "source": [
    "k =Kangaroo(0,0)\n",
    "print(k)\n",
    "k.put_in_pouch('doll')\n",
    "k.put_in_pouch('firetruck')\n",
    "k.put_in_pouch('kitten')\n",
    "k.pouch_contents()"
   ]
  },
  {
   "cell_type": "code",
   "execution_count": 74,
   "id": "9574e4f1",
   "metadata": {},
   "outputs": [
    {
     "name": "stdout",
     "output_type": "stream",
     "text": [
      "I am a Kangaroo located at coordinates (3,0)\n"
     ]
    }
   ],
   "source": [
    "k.jump(1,0)\n",
    "k.jump(1,0)\n",
    "k.jump(1,0)\n",
    "print(k)"
   ]
  },
  {
   "cell_type": "code",
   "execution_count": 84,
   "id": "68fcb90b",
   "metadata": {},
   "outputs": [],
   "source": [
    "#Question4\n",
    "def collatz(x):\n",
    "    print(x)\n",
    "    if x%2 == 0:\n",
    "        return collatz(int(x/2))\n",
    "    elif x == 1:\n",
    "        return\n",
    "    else:\n",
    "        return collatz(3*x + 1)"
   ]
  },
  {
   "cell_type": "code",
   "execution_count": 85,
   "id": "9e799c77",
   "metadata": {},
   "outputs": [
    {
     "name": "stdout",
     "output_type": "stream",
     "text": [
      "10\n",
      "5\n",
      "16\n",
      "8\n",
      "4\n",
      "2\n",
      "1\n"
     ]
    }
   ],
   "source": [
    "collatz(10)"
   ]
  },
  {
   "cell_type": "code",
   "execution_count": 102,
   "id": "b45d981a",
   "metadata": {},
   "outputs": [
    {
     "name": "stdout",
     "output_type": "stream",
     "text": [
      "1001\n"
     ]
    }
   ],
   "source": [
    "#Question5\n",
    "def binary(num):\n",
    "    if num == 0:\n",
    "        return 0\n",
    "    else:\n",
    "        return (num % 2 + 10 * binary(int(num // 2)))\n",
    "\n",
    "num = 9\n",
    "print(binary(num))"
   ]
  },
  {
   "cell_type": "code",
   "execution_count": 107,
   "id": "e8e9e800",
   "metadata": {},
   "outputs": [
    {
     "name": "stdout",
     "output_type": "stream",
     "text": [
      "\n",
      "\n",
      "\n",
      "\n",
      "\n",
      "\n",
      "  \n",
      "\n",
      "  \n",
      "\n",
      "  \n",
      "Change_me\n",
      "\n",
      "  \n",
      "\n",
      "  \n",
      "\n",
      "  \n",
      "\n",
      "\n",
      "\n",
      "\n",
      "\n",
      "\n",
      "  \n",
      "\t\n",
      "W3C Mission\n",
      "\n",
      "\t\n",
      "Principles\n",
      "\n",
      " \n",
      "\n",
      "\n",
      "\n",
      "\n",
      "\n"
     ]
    }
   ],
   "source": [
    "#Question 6\n",
    "\n",
    "from html.parser import HTMLParser\n",
    "\n",
    "class HeadingParser(HTMLParser):\n",
    "    common_headers = ['h1', 'h2', 'h3', 'h4', 'h5', 'h6']\n",
    "    \n",
    "    def tag_beginning(self, tag, attrs):\n",
    "        if tag in self.common_headers:\n",
    "            print(tag)\n",
    "            \n",
    "    def tag_ending(self, tag):\n",
    "        if tag in self.common_headers:\n",
    "            print(tag)\n",
    "            \n",
    "    def handle_data(self, data):\n",
    "        print(data)\n",
    "        \n",
    "infile = open('w3c.html')\n",
    "content = infile.read()\n",
    "infile.close()\n",
    "hp = HeadingParser()\n",
    "hp.feed(content)"
   ]
  },
  {
   "cell_type": "code",
   "execution_count": 93,
   "id": "b1f85a57",
   "metadata": {},
   "outputs": [
    {
     "name": "stdout",
     "output_type": "stream",
     "text": [
      "\thttp://reed.cs.depaul.edu/lperkovic/test2.html\n",
      "\t\thttp://reed.cs.depaul.edu/lperkovic/test4.html\n",
      "\thttp://reed.cs.depaul.edu/lperkovic/test3.html\n",
      "\t\thttp://reed.cs.depaul.edu/lperkovic/test4.html\n"
     ]
    }
   ],
   "source": [
    "#Question7\n",
    "from bs4 import BeautifulSoup\n",
    "import requests\n",
    "   \n",
    "def webdir(url, depth, indent):\n",
    "    if depth > 0:\n",
    "        depth -= 1\n",
    "        indent += 1\n",
    "        try:\n",
    "            response = requests.get(url)\n",
    "        except:\n",
    "            pass\n",
    "        parsed_text = BeautifulSoup(response.text,\"html.parser\")\n",
    "        for i in parsed_text.find_all(\"a\"):\n",
    "            href = i.attrs['href']\n",
    "            if href.startswith(\"http\"):\n",
    "                new_url = href\n",
    "            elif href.startswith(\"mail\"):\n",
    "                continue\n",
    "            else:\n",
    "                new_url = url.rsplit('/', 1)[0]+\"/\"+href\n",
    "            print('\\t'*indent + new_url)\n",
    "            webdir(new_url, depth, indent)\n",
    "\n",
    "url = \"http://reed.cs.depaul.edu/lperkovic/test1.html\"\n",
    "webdir(url, 2, 0)"
   ]
  },
  {
   "cell_type": "code",
   "execution_count": 104,
   "id": "5b5e7ddb",
   "metadata": {},
   "outputs": [
    {
     "data": {
      "text/plain": [
       "<sqlite3.Cursor at 0x2217ef27030>"
      ]
     },
     "execution_count": 104,
     "metadata": {},
     "output_type": "execute_result"
    }
   ],
   "source": [
    "# Question 8\n",
    "import sqlite3\n",
    "connection = sqlite3.connect('WeatherRepoKashish.db')\n",
    "cur = connection.cursor()\n",
    "cur.execute(\"CREATE TABLE IF NOT EXISTS WEATHER_RT (City, Country, Season, Temperature, Rainfall)\")\n",
    "cur.execute(\"INSERT INTO WEATHER_RT VALUES ('Mumbai', 'India', 'Winter', 24.8, 5.9)\")\n",
    "cur.execute(\"INSERT INTO WEATHER_RT VALUES ('Mumbai', 'India', 'Spring', 28.4, 16.2)\")\n",
    "cur.execute(\"INSERT INTO WEATHER_RT VALUES ('Mumbai', 'India', 'Summer', 27.9, 1549.4)\")\n",
    "cur.execute(\"INSERT INTO WEATHER_RT VALUES ('Mumbai', 'India', 'Fall', 27.6, 346.0)\")\n",
    "cur.execute(\"INSERT INTO WEATHER_RT VALUES ('London', 'United Kingdom', 'Winter', 4.2, 207.7)\")\n",
    "cur.execute(\"INSERT INTO WEATHER_RT VALUES ('London', 'United Kingdom', 'Spring', 8.3, 169.6)\")\n",
    "cur.execute(\"INSERT INTO WEATHER_RT VALUES ('London', 'United Kingdom', 'Summer', 15.7, 157.0)\")\n",
    "cur.execute(\"INSERT INTO WEATHER_RT VALUES ('London', 'United Kingdom', 'Fall', 10.4, 218.5)\")\n",
    "cur.execute(\"INSERT INTO WEATHER_RT VALUES ('Cairo', 'Egypt', 'Winter', 13.6, 16.5)\")\n",
    "cur.execute(\"INSERT INTO WEATHER_RT VALUES ('Cairo', 'Egypt', 'Spring', 20.7, 6.5)\")\n",
    "cur.execute(\"INSERT INTO WEATHER_RT VALUES ('Cairo', 'Egypt', 'Summer', 27.7, 0.1)\")\n",
    "cur.execute(\"INSERT INTO WEATHER_RT VALUES ('Cairo', 'Egypt', 'Fall', 22.2, 4.5)\")"
   ]
  },
  {
   "cell_type": "code",
   "execution_count": 105,
   "id": "b599b01e",
   "metadata": {},
   "outputs": [
    {
     "name": "stdout",
     "output_type": "stream",
     "text": [
      "[(24.8,), (28.4,), (27.9,), (27.6,), (4.2,), (8.3,), (15.7,), (10.4,), (13.6,), (20.7,), (27.7,), (22.2,)]\n",
      "[('Mumbai',), ('London',), ('Cairo',)]\n",
      "[('Mumbai', 'India', 'Winter', 24.8, 5.9), ('Mumbai', 'India', 'Spring', 28.4, 16.2), ('Mumbai', 'India', 'Summer', 27.9, 1549.4), ('Mumbai', 'India', 'Fall', 27.6, 346.0)]\n",
      "[('Mumbai', 'India', 'Fall', 27.6, 346.0), ('London', 'United Kingdom', 'Fall', 10.4, 218.5), ('Cairo', 'Egypt', 'Fall', 22.2, 4.5)]\n",
      "[('Mumbai', 'India', 'Fall'), ('London', 'United Kingdom', 'Winter'), ('London', 'United Kingdom', 'Fall')]\n",
      "[('Cairo', 'Egypt'), ('Mumbai', 'India')]\n",
      "[(27.6,)]\n",
      "[(230.1,)]\n",
      "[(192.29999999999998,)]\n",
      "[(1706.5,)]\n",
      "[(569.0,)]\n"
     ]
    }
   ],
   "source": [
    "# Query a\n",
    "\n",
    "cur.execute('SELECT Temperature FROM WEATHER_RT')\n",
    "print(cur.fetchall())\n",
    "\n",
    "\n",
    "# Query b\n",
    "\n",
    "\n",
    "cur.execute('SELECT DISTINCT City FROM WEATHER_RT')\n",
    "print(cur.fetchall())\n",
    "\n",
    "\n",
    "# Query c\n",
    "\n",
    "\n",
    "country = 'India'\n",
    "cur.execute('SELECT * FROM WEATHER_RT WHERE Country = ?', (country,))\n",
    "print(cur.fetchall())\n",
    "\n",
    "\n",
    "# Query d\n",
    "\n",
    "\n",
    "season = 'Fall'\n",
    "cur.execute('SELECT * FROM WEATHER_RT WHERE Season = ?', (season,))\n",
    "print(cur.fetchall())\n",
    "\n",
    "\n",
    "# Query e\n",
    "\n",
    "rainfall1 = 200\n",
    "rainfall2 = 400\n",
    "cur.execute('SELECT city, country, season FROM WEATHER_RT WHERE Rainfall BETWEEN ? AND ?', (rainfall1,rainfall2,))\n",
    "print(cur.fetchall())\n",
    "\n",
    "\n",
    "# Query f\n",
    "\n",
    "\n",
    "season = 'Fall'\n",
    "temperature = 20\n",
    "cur.execute('SELECT city, country FROM WEATHER_RT WHERE Season = ? AND Temperature > ? ORDER BY Temperature', (season,temperature,))\n",
    "print(cur.fetchall())\n",
    "\n",
    "\n",
    "# Query g\n",
    "\n",
    "city = 'Cairo'\n",
    "cur.execute('SELECT SUM(Rainfall) FROM WEATHER_RT WHERE City = ?', (city,))\n",
    "print(cur.fetchall())\n",
    "\n",
    "\n",
    "# Query h\n",
    "\n",
    "\n",
    "season1 = 'Winter'\n",
    "season2 = 'Spring'\n",
    "season3 = 'Summer'\n",
    "season4 = 'Fall'\n",
    "\n",
    "cur.execute('SELECT SUM(Rainfall) FROM WEATHER_RT WHERE Season = ?', (season1,))\n",
    "print(cur.fetchall())\n",
    "cur.execute('SELECT SUM(Rainfall) FROM WEATHER_RT WHERE Season = ?', (season2,))\n",
    "print(cur.fetchall())\n",
    "cur.execute('SELECT SUM(Rainfall) FROM WEATHER_RT WHERE Season = ?', (season3,))\n",
    "print(cur.fetchall())\n",
    "cur.execute('SELECT SUM(Rainfall) FROM WEATHER_RT WHERE Season = ?', (season4,))\n",
    "print(cur.fetchall())"
   ]
  },
  {
   "cell_type": "code",
   "execution_count": 86,
   "id": "6f021470",
   "metadata": {},
   "outputs": [],
   "source": [
    "#Question9\n",
    "words = ['The', 'quick', 'brown', 'fox', 'jumps', 'over',\n",
    "'the', 'lazy', 'dog']\n"
   ]
  },
  {
   "cell_type": "code",
   "execution_count": 89,
   "id": "f4e2c93e",
   "metadata": {},
   "outputs": [
    {
     "name": "stdout",
     "output_type": "stream",
     "text": [
      "['THE', 'QUICK', 'BROWN', 'FOX', 'JUMPS', 'OVER', 'THE', 'LAZY', 'DOG']\n",
      "-----------------------------\n",
      "['the', 'quick', 'brown', 'fox', 'jumps', 'over', 'the', 'lazy', 'dog']\n",
      "-----------------------------\n",
      "[3, 5, 5, 3, 5, 4, 3, 4, 3]\n",
      "-----------------------------\n",
      "[['THE', 'the', 3], ['QUICK', 'quick', 5], ['BROWN', 'brown', 5], ['FOX', 'fox', 3], ['JUMPS', 'jumps', 5], ['OVER', 'over', 4], ['THE', 'the', 3], ['LAZY', 'lazy', 4], ['DOG', 'dog', 3]]\n",
      "-----------------------------\n",
      "['quick', 'brown', 'jumps', 'over', 'lazy']\n"
     ]
    }
   ],
   "source": [
    "# a\n",
    "new_words = []\n",
    "for w in words:\n",
    "    new_words.append(w.upper())\n",
    "print(new_words)  \n",
    "\n",
    "print(\"-----------------------------\")\n",
    "#b\n",
    "new_words = []\n",
    "for w in words:\n",
    "    new_words.append(w.lower())\n",
    "print(new_words)\n",
    "print(\"-----------------------------\")\n",
    "#c\n",
    "new_words = []\n",
    "for w in words:\n",
    "    new_words.append(len(w))\n",
    "print(new_words)\n",
    "print(\"-----------------------------\")\n",
    "#d\n",
    "new_words = []\n",
    "for w in words:\n",
    "    new_words.append([w.upper(),w.lower(),len(w)]  )\n",
    "print(new_words)\n",
    "print(\"-----------------------------\")                      \n",
    "#e\n",
    "new_words = []\n",
    "for w in words:\n",
    "    if len(w)>=4:\n",
    "        new_words.append(w )\n",
    "print(new_words)\n",
    "\n",
    "\n",
    "    "
   ]
  },
  {
   "cell_type": "code",
   "execution_count": null,
   "id": "76502f9a",
   "metadata": {},
   "outputs": [],
   "source": []
  }
 ],
 "metadata": {
  "kernelspec": {
   "display_name": "Python 3 (ipykernel)",
   "language": "python",
   "name": "python3"
  },
  "language_info": {
   "codemirror_mode": {
    "name": "ipython",
    "version": 3
   },
   "file_extension": ".py",
   "mimetype": "text/x-python",
   "name": "python",
   "nbconvert_exporter": "python",
   "pygments_lexer": "ipython3",
   "version": "3.9.12"
  }
 },
 "nbformat": 4,
 "nbformat_minor": 5
}
