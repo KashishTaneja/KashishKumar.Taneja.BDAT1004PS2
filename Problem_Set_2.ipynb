{
 "cells": [
  {
   "cell_type": "code",
   "execution_count": 91,
   "id": "73852de9",
   "metadata": {},
   "outputs": [],
   "source": [
    "#Question1\n",
    "a = 0\n",
    "def b():\n",
    "    global a\n",
    "    a = c(a)\n",
    "def c(a):\n",
    "    return a + 2"
   ]
  },
  {
   "cell_type": "code",
   "execution_count": 92,
   "id": "cb12a398",
   "metadata": {},
   "outputs": [
    {
     "data": {
      "text/plain": [
       "6"
      ]
     },
     "execution_count": 92,
     "metadata": {},
     "output_type": "execute_result"
    }
   ],
   "source": [
    "b()\n",
    "b()\n",
    "b()\n",
    "a"
   ]
  },
  {
   "cell_type": "markdown",
   "id": "6e914101",
   "metadata": {},
   "source": [
    "We have chosen global variable a so that scope of a remains in the whole code.\n",
    "In each iteration 2 is added to variable a hence the result comes out to be 6."
   ]
  },
  {
   "cell_type": "code",
   "execution_count": 32,
   "id": "366841ee",
   "metadata": {},
   "outputs": [],
   "source": [
    "#Question2\n",
    "def file_length(file_name):\n",
    "    \n",
    "    try:\n",
    "        file = open(file_name)\n",
    "        contents = file.read()\n",
    "        file.close()\n",
    "        print(len(contents))\n",
    "        \n",
    "    except Exception as e:\n",
    "        print(\"File {} not found\".format(file_name))"
   ]
  },
  {
   "cell_type": "code",
   "execution_count": 34,
   "id": "ac24a5e2",
   "metadata": {},
   "outputs": [
    {
     "name": "stdout",
     "output_type": "stream",
     "text": [
      "2299\n"
     ]
    }
   ],
   "source": [
    "file_length('PPT.txt')"
   ]
  },
  {
   "cell_type": "code",
   "execution_count": 35,
   "id": "34e670c3",
   "metadata": {},
   "outputs": [
    {
     "name": "stdout",
     "output_type": "stream",
     "text": [
      "File abc.txt not found\n"
     ]
    }
   ],
   "source": [
    "file_length('abc.txt')"
   ]
  },
  {
   "cell_type": "code",
   "execution_count": 48,
   "id": "8964624b",
   "metadata": {},
   "outputs": [],
   "source": [
    "#Question3\n",
    "class Marsupial():\n",
    "    content = []\n",
    "    def __init__(self):\n",
    "        self.content = [] \n",
    "    def put_in_pouch(self,var):\n",
    "        self.content.append(var)\n",
    "    def pouch_contents(self):\n",
    "        print(self.content)"
   ]
  },
  {
   "cell_type": "code",
   "execution_count": 49,
   "id": "9c72040e",
   "metadata": {},
   "outputs": [
    {
     "name": "stdout",
     "output_type": "stream",
     "text": [
      "['doll', 'firetruck', 'kitten']\n"
     ]
    }
   ],
   "source": [
    "m =Marsupial()\n",
    "m.put_in_pouch(\"doll\")\n",
    "m.put_in_pouch(\"firetruck\")\n",
    "m.put_in_pouch(\"kitten\")\n",
    "\n",
    "m.pouch_contents()"
   ]
  },
  {
   "cell_type": "code",
   "execution_count": 72,
   "id": "8a83743c",
   "metadata": {},
   "outputs": [],
   "source": [
    "class Kangaroo(Marsupial):\n",
    "    x = 0\n",
    "    y = 0\n",
    "    def __init__(self,x,y):\n",
    "        self.x = x\n",
    "        self.y = y\n",
    "    def __str__(self):\n",
    "        return \"I am a Kangaroo located at coordinates (\" + str(self.x) + \",\" + str(self.y)  + \")\" \n",
    "    def jump(self,dx,dy):\n",
    "        self.x = self.x+dx\n",
    "        self.y = self.y+dy"
   ]
  },
  {
   "cell_type": "code",
   "execution_count": 73,
   "id": "d23d98f4",
   "metadata": {},
   "outputs": [
    {
     "name": "stdout",
     "output_type": "stream",
     "text": [
      "I am a Kangaroo located at coordinates (0,0)\n",
      "['doll', 'firetruck', 'kitten', 'doll', 'firetruck', 'kitten', 'doll', 'firetruck', 'kitten']\n"
     ]
    }
   ],
   "source": [
    "k =Kangaroo(0,0)\n",
    "print(k)\n",
    "k.put_in_pouch('doll')\n",
    "k.put_in_pouch('firetruck')\n",
    "k.put_in_pouch('kitten')\n",
    "k.pouch_contents()"
   ]
  },
  {
   "cell_type": "code",
   "execution_count": 74,
   "id": "22a5ee1d",
   "metadata": {},
   "outputs": [
    {
     "name": "stdout",
     "output_type": "stream",
     "text": [
      "I am a Kangaroo located at coordinates (3,0)\n"
     ]
    }
   ],
   "source": [
    "k.jump(1,0)\n",
    "k.jump(1,0)\n",
    "k.jump(1,0)\n",
    "print(k)"
   ]
  },
  {
   "cell_type": "code",
   "execution_count": 84,
   "id": "f97db717",
   "metadata": {},
   "outputs": [],
   "source": [
    "#Question4\n",
    "def collatz(x):\n",
    "    print(x)\n",
    "    if x%2 == 0:\n",
    "        return collatz(int(x/2))\n",
    "    elif x == 1:\n",
    "        return\n",
    "    else:\n",
    "        return collatz(3*x + 1)"
   ]
  },
  {
   "cell_type": "code",
   "execution_count": 85,
   "id": "1e8724ff",
   "metadata": {},
   "outputs": [
    {
     "name": "stdout",
     "output_type": "stream",
     "text": [
      "10\n",
      "5\n",
      "16\n",
      "8\n",
      "4\n",
      "2\n",
      "1\n"
     ]
    }
   ],
   "source": [
    "collatz(10)"
   ]
  },
  {
   "cell_type": "code",
   "execution_count": 102,
   "id": "b75c0a01",
   "metadata": {},
   "outputs": [
    {
     "name": "stdout",
     "output_type": "stream",
     "text": [
      "1001\n"
     ]
    }
   ],
   "source": [
    "#Question5\n",
    "def binary(num):\n",
    "    if num == 0:\n",
    "        return 0\n",
    "    else:\n",
    "        return (num % 2 + 10 * binary(int(num // 2)))\n",
    "\n",
    "num = 9\n",
    "print(binary(num))"
   ]
  },
  {
   "cell_type": "code",
   "execution_count": 101,
   "id": "89ec1a3a",
   "metadata": {},
   "outputs": [
    {
     "name": "stdout",
     "output_type": "stream",
     "text": [
      "ï»¿\n",
      "@font-face { font-family:'Courier New'; font-style:normal; font-weight:normal; src:local('â˜º'), url('data:application/x-font-woff;base64,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') format('woff'); } .awdiv { position:absolute; } .awspan { position:absolute; white-space:pre; color:#000000; font-size:12pt; } .awimg { position:absolute; } .awsvg { position:absolute; } .awpage { position:relative; border:solid 1pt black; margin:10pt auto 10pt auto; overflow:hidden; } @media print { body { margin:0pt; padding:0pt; } .awpage { page-break-after:always; margin:0pt; padding:0pt; } } .awtext001 { font-family:'Courier New'; font-style:normal; font-weight:normal; }\n",
      "<!DOCTYPE html>\n",
      "<html lang=\"en\">\n",
      "<head>\n",
      "<meta name=\"description\" content=\"Webpage description goes here\" />\n",
      "<meta charset=\"utf-8\">\n",
      "<title>Change_me</title>\n",
      "<meta name=\"viewport\" content=\"width=device-width, initial-scale=1\">\n",
      "<meta name=\"author\" content=\"\">\n",
      "<link rel=\"stylesheet\" href=\"css/style.css\">\n",
      "</head>\n",
      "<body>\n",
      "<h1>W3C Mission</h1>\n",
      "<h2>Principles</h2>\n",
      "</body>\n",
      "</html>\n"
     ]
    }
   ],
   "source": [
    "#Question 6\n",
    "from html.parser import HTMLParser\n",
    "\n",
    "class HeadingParser(HTMLParser):\n",
    "    common_headers = ['h1', 'h2', 'h3', 'h4', 'h5', 'h6']\n",
    "    \n",
    "    def tag_beginning(self, tag, attrs):\n",
    "        if tag in self.common_headers:\n",
    "            print(tag)\n",
    "            \n",
    "    def tag_ending(self, tag):\n",
    "        if tag in self.common_headers:\n",
    "            print(tag)\n",
    "            \n",
    "    def handle_data(self, data):\n",
    "        print(data)\n",
    "        \n",
    "infile = open('w3c.html')\n",
    "content = infile.read()\n",
    "infile.close()\n",
    "hp = HeadingParser()\n",
    "hp.feed(content)"
   ]
  },
  {
   "cell_type": "code",
   "execution_count": 93,
   "id": "20372dc0",
   "metadata": {},
   "outputs": [
    {
     "name": "stdout",
     "output_type": "stream",
     "text": [
      "\thttp://reed.cs.depaul.edu/lperkovic/test2.html\n",
      "\t\thttp://reed.cs.depaul.edu/lperkovic/test4.html\n",
      "\thttp://reed.cs.depaul.edu/lperkovic/test3.html\n",
      "\t\thttp://reed.cs.depaul.edu/lperkovic/test4.html\n"
     ]
    }
   ],
   "source": [
    "#Question7\n",
    "from bs4 import BeautifulSoup\n",
    "import requests\n",
    "   \n",
    "def webdir(url, depth, indent):\n",
    "    if depth > 0:\n",
    "        depth -= 1\n",
    "        indent += 1\n",
    "        try:\n",
    "            response = requests.get(url)\n",
    "        except:\n",
    "            pass\n",
    "        parsed_text = BeautifulSoup(response.text,\"html.parser\")\n",
    "        for i in parsed_text.find_all(\"a\"):\n",
    "            href = i.attrs['href']\n",
    "            if href.startswith(\"http\"):\n",
    "                new_url = href\n",
    "            elif href.startswith(\"mail\"):\n",
    "                continue\n",
    "            else:\n",
    "                new_url = url.rsplit('/', 1)[0]+\"/\"+href\n",
    "            print('\\t'*indent + new_url)\n",
    "            webdir(new_url, depth, indent)\n",
    "\n",
    "url = \"http://reed.cs.depaul.edu/lperkovic/test1.html\"\n",
    "webdir(url, 2, 0)"
   ]
  },
  {
   "cell_type": "code",
   "execution_count": 104,
   "id": "3d361cf3",
   "metadata": {},
   "outputs": [
    {
     "data": {
      "text/plain": [
       "<sqlite3.Cursor at 0x2217ef27030>"
      ]
     },
     "execution_count": 104,
     "metadata": {},
     "output_type": "execute_result"
    }
   ],
   "source": [
    "# Question 8\n",
    "import sqlite3\n",
    "connection = sqlite3.connect('WeatherRepoKashish.db')\n",
    "cur = connection.cursor()\n",
    "cur.execute(\"CREATE TABLE IF NOT EXISTS WEATHER_RT (City, Country, Season, Temperature, Rainfall)\")\n",
    "cur.execute(\"INSERT INTO WEATHER_RT VALUES ('Mumbai', 'India', 'Winter', 24.8, 5.9)\")\n",
    "cur.execute(\"INSERT INTO WEATHER_RT VALUES ('Mumbai', 'India', 'Spring', 28.4, 16.2)\")\n",
    "cur.execute(\"INSERT INTO WEATHER_RT VALUES ('Mumbai', 'India', 'Summer', 27.9, 1549.4)\")\n",
    "cur.execute(\"INSERT INTO WEATHER_RT VALUES ('Mumbai', 'India', 'Fall', 27.6, 346.0)\")\n",
    "cur.execute(\"INSERT INTO WEATHER_RT VALUES ('London', 'United Kingdom', 'Winter', 4.2, 207.7)\")\n",
    "cur.execute(\"INSERT INTO WEATHER_RT VALUES ('London', 'United Kingdom', 'Spring', 8.3, 169.6)\")\n",
    "cur.execute(\"INSERT INTO WEATHER_RT VALUES ('London', 'United Kingdom', 'Summer', 15.7, 157.0)\")\n",
    "cur.execute(\"INSERT INTO WEATHER_RT VALUES ('London', 'United Kingdom', 'Fall', 10.4, 218.5)\")\n",
    "cur.execute(\"INSERT INTO WEATHER_RT VALUES ('Cairo', 'Egypt', 'Winter', 13.6, 16.5)\")\n",
    "cur.execute(\"INSERT INTO WEATHER_RT VALUES ('Cairo', 'Egypt', 'Spring', 20.7, 6.5)\")\n",
    "cur.execute(\"INSERT INTO WEATHER_RT VALUES ('Cairo', 'Egypt', 'Summer', 27.7, 0.1)\")\n",
    "cur.execute(\"INSERT INTO WEATHER_RT VALUES ('Cairo', 'Egypt', 'Fall', 22.2, 4.5)\")"
   ]
  },
  {
   "cell_type": "code",
   "execution_count": 105,
   "id": "0ee381ae",
   "metadata": {},
   "outputs": [
    {
     "name": "stdout",
     "output_type": "stream",
     "text": [
      "[(24.8,), (28.4,), (27.9,), (27.6,), (4.2,), (8.3,), (15.7,), (10.4,), (13.6,), (20.7,), (27.7,), (22.2,)]\n",
      "[('Mumbai',), ('London',), ('Cairo',)]\n",
      "[('Mumbai', 'India', 'Winter', 24.8, 5.9), ('Mumbai', 'India', 'Spring', 28.4, 16.2), ('Mumbai', 'India', 'Summer', 27.9, 1549.4), ('Mumbai', 'India', 'Fall', 27.6, 346.0)]\n",
      "[('Mumbai', 'India', 'Fall', 27.6, 346.0), ('London', 'United Kingdom', 'Fall', 10.4, 218.5), ('Cairo', 'Egypt', 'Fall', 22.2, 4.5)]\n",
      "[('Mumbai', 'India', 'Fall'), ('London', 'United Kingdom', 'Winter'), ('London', 'United Kingdom', 'Fall')]\n",
      "[('Cairo', 'Egypt'), ('Mumbai', 'India')]\n",
      "[(27.6,)]\n",
      "[(230.1,)]\n",
      "[(192.29999999999998,)]\n",
      "[(1706.5,)]\n",
      "[(569.0,)]\n"
     ]
    }
   ],
   "source": [
    "# Query a\n",
    "\n",
    "cur.execute('SELECT Temperature FROM WEATHER_RT')\n",
    "print(cur.fetchall())\n",
    "\n",
    "\n",
    "# Query b\n",
    "\n",
    "\n",
    "cur.execute('SELECT DISTINCT City FROM WEATHER_RT')\n",
    "print(cur.fetchall())\n",
    "\n",
    "\n",
    "# Query c\n",
    "\n",
    "\n",
    "country = 'India'\n",
    "cur.execute('SELECT * FROM WEATHER_RT WHERE Country = ?', (country,))\n",
    "print(cur.fetchall())\n",
    "\n",
    "\n",
    "# Query d\n",
    "\n",
    "\n",
    "season = 'Fall'\n",
    "cur.execute('SELECT * FROM WEATHER_RT WHERE Season = ?', (season,))\n",
    "print(cur.fetchall())\n",
    "\n",
    "\n",
    "# Query e\n",
    "\n",
    "rainfall1 = 200\n",
    "rainfall2 = 400\n",
    "cur.execute('SELECT city, country, season FROM WEATHER_RT WHERE Rainfall BETWEEN ? AND ?', (rainfall1,rainfall2,))\n",
    "print(cur.fetchall())\n",
    "\n",
    "\n",
    "# Query f\n",
    "\n",
    "\n",
    "season = 'Fall'\n",
    "temperature = 20\n",
    "cur.execute('SELECT city, country FROM WEATHER_RT WHERE Season = ? AND Temperature > ? ORDER BY Temperature', (season,temperature,))\n",
    "print(cur.fetchall())\n",
    "\n",
    "\n",
    "# Query g\n",
    "\n",
    "city = 'Cairo'\n",
    "cur.execute('SELECT SUM(Rainfall) FROM WEATHER_RT WHERE City = ?', (city,))\n",
    "print(cur.fetchall())\n",
    "\n",
    "\n",
    "# Query h\n",
    "\n",
    "\n",
    "season1 = 'Winter'\n",
    "season2 = 'Spring'\n",
    "season3 = 'Summer'\n",
    "season4 = 'Fall'\n",
    "\n",
    "cur.execute('SELECT SUM(Rainfall) FROM WEATHER_RT WHERE Season = ?', (season1,))\n",
    "print(cur.fetchall())\n",
    "cur.execute('SELECT SUM(Rainfall) FROM WEATHER_RT WHERE Season = ?', (season2,))\n",
    "print(cur.fetchall())\n",
    "cur.execute('SELECT SUM(Rainfall) FROM WEATHER_RT WHERE Season = ?', (season3,))\n",
    "print(cur.fetchall())\n",
    "cur.execute('SELECT SUM(Rainfall) FROM WEATHER_RT WHERE Season = ?', (season4,))\n",
    "print(cur.fetchall())"
   ]
  },
  {
   "cell_type": "code",
   "execution_count": 86,
   "id": "b6874434",
   "metadata": {},
   "outputs": [],
   "source": [
    "#Question9\n",
    "words = ['The', 'quick', 'brown', 'fox', 'jumps', 'over',\n",
    "'the', 'lazy', 'dog']\n"
   ]
  },
  {
   "cell_type": "code",
   "execution_count": 89,
   "id": "ccb209ba",
   "metadata": {},
   "outputs": [
    {
     "name": "stdout",
     "output_type": "stream",
     "text": [
      "['THE', 'QUICK', 'BROWN', 'FOX', 'JUMPS', 'OVER', 'THE', 'LAZY', 'DOG']\n",
      "-----------------------------\n",
      "['the', 'quick', 'brown', 'fox', 'jumps', 'over', 'the', 'lazy', 'dog']\n",
      "-----------------------------\n",
      "[3, 5, 5, 3, 5, 4, 3, 4, 3]\n",
      "-----------------------------\n",
      "[['THE', 'the', 3], ['QUICK', 'quick', 5], ['BROWN', 'brown', 5], ['FOX', 'fox', 3], ['JUMPS', 'jumps', 5], ['OVER', 'over', 4], ['THE', 'the', 3], ['LAZY', 'lazy', 4], ['DOG', 'dog', 3]]\n",
      "-----------------------------\n",
      "['quick', 'brown', 'jumps', 'over', 'lazy']\n"
     ]
    }
   ],
   "source": [
    "# a\n",
    "new_words = []\n",
    "for w in words:\n",
    "    new_words.append(w.upper())\n",
    "print(new_words)  \n",
    "\n",
    "print(\"-----------------------------\")\n",
    "#b\n",
    "new_words = []\n",
    "for w in words:\n",
    "    new_words.append(w.lower())\n",
    "print(new_words)\n",
    "print(\"-----------------------------\")\n",
    "#c\n",
    "new_words = []\n",
    "for w in words:\n",
    "    new_words.append(len(w))\n",
    "print(new_words)\n",
    "print(\"-----------------------------\")\n",
    "#d\n",
    "new_words = []\n",
    "for w in words:\n",
    "    new_words.append([w.upper(),w.lower(),len(w)]  )\n",
    "print(new_words)\n",
    "print(\"-----------------------------\")                      \n",
    "#e\n",
    "new_words = []\n",
    "for w in words:\n",
    "    if len(w)>=4:\n",
    "        new_words.append(w )\n",
    "print(new_words)\n",
    "\n",
    "\n",
    "    "
   ]
  },
  {
   "cell_type": "code",
   "execution_count": null,
   "id": "3c6a7bcc",
   "metadata": {},
   "outputs": [],
   "source": []
  }
 ],
 "metadata": {
  "kernelspec": {
   "display_name": "Python 3 (ipykernel)",
   "language": "python",
   "name": "python3"
  },
  "language_info": {
   "codemirror_mode": {
    "name": "ipython",
    "version": 3
   },
   "file_extension": ".py",
   "mimetype": "text/x-python",
   "name": "python",
   "nbconvert_exporter": "python",
   "pygments_lexer": "ipython3",
   "version": "3.9.12"
  }
 },
 "nbformat": 4,
 "nbformat_minor": 5
}
